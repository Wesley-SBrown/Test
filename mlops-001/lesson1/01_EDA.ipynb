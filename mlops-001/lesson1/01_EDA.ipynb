{
  "cells": [
    {
      "cell_type": "markdown",
      "metadata": {
        "id": "qffY7UiOOXTd"
      },
      "source": [
        "<a href=\"https://colab.research.google.com/github/wandb/edu/blob/main/mlops-001/lesson1/01_EDA.ipynb\" target=\"_parent\"><img src=\"https://colab.research.google.com/assets/colab-badge.svg\" alt=\"Open In Colab\"/></a>\n",
        "<!--- @wandbcode{course-lesson1} -->"
      ],
      "id": "qffY7UiOOXTd"
    },
    {
      "cell_type": "code",
      "source": [
        "!pip install wandb -qq"
      ],
      "metadata": {
        "id": "myky9KFEOoZb"
      },
      "id": "myky9KFEOoZb",
      "execution_count": 1,
      "outputs": []
    },
    {
      "cell_type": "code",
      "execution_count": 2,
      "id": "faa157c5",
      "metadata": {
        "colab": {
          "base_uri": "https://localhost:8080/"
        },
        "id": "faa157c5",
        "outputId": "28b98a9b-d8db-4c6b-ee0a-ddb686c51250"
      },
      "outputs": [
        {
          "output_type": "stream",
          "name": "stdout",
          "text": [
            "--2024-12-17 20:08:07--  https://raw.githubusercontent.com/wandb/edu/main/mlops-001/lesson1/requirements.txt\n",
            "Resolving raw.githubusercontent.com (raw.githubusercontent.com)... 185.199.108.133, 185.199.109.133, 185.199.110.133, ...\n",
            "Connecting to raw.githubusercontent.com (raw.githubusercontent.com)|185.199.108.133|:443... connected.\n",
            "HTTP request sent, awaiting response... 200 OK\n",
            "Length: 82 [text/plain]\n",
            "Saving to: ‘requirements.txt’\n",
            "\n",
            "requirements.txt    100%[===================>]      82  --.-KB/s    in 0s      \n",
            "\n",
            "2024-12-17 20:08:08 (1.04 MB/s) - ‘requirements.txt’ saved [82/82]\n",
            "\n",
            "--2024-12-17 20:08:08--  https://raw.githubusercontent.com/wandb/edu/main/mlops-001/lesson1/params.py\n",
            "Resolving raw.githubusercontent.com (raw.githubusercontent.com)... 185.199.108.133, 185.199.109.133, 185.199.110.133, ...\n",
            "Connecting to raw.githubusercontent.com (raw.githubusercontent.com)|185.199.108.133|:443... connected.\n",
            "HTTP request sent, awaiting response... 200 OK\n",
            "Length: 295 [text/plain]\n",
            "Saving to: ‘params.py’\n",
            "\n",
            "params.py           100%[===================>]     295  --.-KB/s    in 0s      \n",
            "\n",
            "2024-12-17 20:08:08 (22.5 MB/s) - ‘params.py’ saved [295/295]\n",
            "\n",
            "--2024-12-17 20:08:08--  https://raw.githubusercontent.com/wandb/edu/main/mlops-001/lesson1/utils.py\n",
            "Resolving raw.githubusercontent.com (raw.githubusercontent.com)... 185.199.108.133, 185.199.109.133, 185.199.110.133, ...\n",
            "Connecting to raw.githubusercontent.com (raw.githubusercontent.com)|185.199.108.133|:443... connected.\n",
            "HTTP request sent, awaiting response... 200 OK\n",
            "Length: 6721 (6.6K) [text/plain]\n",
            "Saving to: ‘utils.py’\n",
            "\n",
            "utils.py            100%[===================>]   6.56K  --.-KB/s    in 0s      \n",
            "\n",
            "2024-12-17 20:08:08 (55.4 MB/s) - ‘utils.py’ saved [6721/6721]\n",
            "\n",
            "Requirement already satisfied: torch>=1.9 in /usr/local/lib/python3.10/dist-packages (from -r requirements.txt (line 1)) (2.5.1+cu121)\n",
            "Requirement already satisfied: fastai>=2.7 in /usr/local/lib/python3.10/dist-packages (from -r requirements.txt (line 2)) (2.7.18)\n",
            "Requirement already satisfied: matplotlib in /usr/local/lib/python3.10/dist-packages (from -r requirements.txt (line 3)) (3.8.0)\n",
            "Requirement already satisfied: numpy in /usr/local/lib/python3.10/dist-packages (from -r requirements.txt (line 4)) (1.26.4)\n",
            "Requirement already satisfied: pandas in /usr/local/lib/python3.10/dist-packages (from -r requirements.txt (line 5)) (2.2.2)\n",
            "Requirement already satisfied: scikit-learn in /usr/local/lib/python3.10/dist-packages (from -r requirements.txt (line 6)) (1.5.2)\n",
            "Requirement already satisfied: torchvision in /usr/local/lib/python3.10/dist-packages (from -r requirements.txt (line 7)) (0.20.1+cu121)\n",
            "Requirement already satisfied: tqdm in /usr/local/lib/python3.10/dist-packages (from -r requirements.txt (line 8)) (4.66.6)\n",
            "Requirement already satisfied: wandb in /usr/local/lib/python3.10/dist-packages (from -r requirements.txt (line 9)) (0.18.7)\n",
            "Requirement already satisfied: filelock in /usr/local/lib/python3.10/dist-packages (from torch>=1.9->-r requirements.txt (line 1)) (3.16.1)\n",
            "Requirement already satisfied: typing-extensions>=4.8.0 in /usr/local/lib/python3.10/dist-packages (from torch>=1.9->-r requirements.txt (line 1)) (4.12.2)\n",
            "Requirement already satisfied: networkx in /usr/local/lib/python3.10/dist-packages (from torch>=1.9->-r requirements.txt (line 1)) (3.4.2)\n",
            "Requirement already satisfied: jinja2 in /usr/local/lib/python3.10/dist-packages (from torch>=1.9->-r requirements.txt (line 1)) (3.1.4)\n",
            "Requirement already satisfied: fsspec in /usr/local/lib/python3.10/dist-packages (from torch>=1.9->-r requirements.txt (line 1)) (2024.10.0)\n",
            "Requirement already satisfied: sympy==1.13.1 in /usr/local/lib/python3.10/dist-packages (from torch>=1.9->-r requirements.txt (line 1)) (1.13.1)\n",
            "Requirement already satisfied: mpmath<1.4,>=1.1.0 in /usr/local/lib/python3.10/dist-packages (from sympy==1.13.1->torch>=1.9->-r requirements.txt (line 1)) (1.3.0)\n",
            "Requirement already satisfied: pip in /usr/local/lib/python3.10/dist-packages (from fastai>=2.7->-r requirements.txt (line 2)) (24.1.2)\n",
            "Requirement already satisfied: packaging in /usr/local/lib/python3.10/dist-packages (from fastai>=2.7->-r requirements.txt (line 2)) (24.2)\n",
            "Requirement already satisfied: fastdownload<2,>=0.0.5 in /usr/local/lib/python3.10/dist-packages (from fastai>=2.7->-r requirements.txt (line 2)) (0.0.7)\n",
            "Requirement already satisfied: fastcore<1.8,>=1.5.29 in /usr/local/lib/python3.10/dist-packages (from fastai>=2.7->-r requirements.txt (line 2)) (1.7.26)\n",
            "Requirement already satisfied: requests in /usr/local/lib/python3.10/dist-packages (from fastai>=2.7->-r requirements.txt (line 2)) (2.32.3)\n",
            "Requirement already satisfied: pyyaml in /usr/local/lib/python3.10/dist-packages (from fastai>=2.7->-r requirements.txt (line 2)) (6.0.2)\n",
            "Requirement already satisfied: fastprogress>=0.2.4 in /usr/local/lib/python3.10/dist-packages (from fastai>=2.7->-r requirements.txt (line 2)) (1.0.3)\n",
            "Requirement already satisfied: pillow>=9.0.0 in /usr/local/lib/python3.10/dist-packages (from fastai>=2.7->-r requirements.txt (line 2)) (11.0.0)\n",
            "Requirement already satisfied: scipy in /usr/local/lib/python3.10/dist-packages (from fastai>=2.7->-r requirements.txt (line 2)) (1.13.1)\n",
            "Requirement already satisfied: spacy<4 in /usr/local/lib/python3.10/dist-packages (from fastai>=2.7->-r requirements.txt (line 2)) (3.7.5)\n",
            "Requirement already satisfied: contourpy>=1.0.1 in /usr/local/lib/python3.10/dist-packages (from matplotlib->-r requirements.txt (line 3)) (1.3.1)\n",
            "Requirement already satisfied: cycler>=0.10 in /usr/local/lib/python3.10/dist-packages (from matplotlib->-r requirements.txt (line 3)) (0.12.1)\n",
            "Requirement already satisfied: fonttools>=4.22.0 in /usr/local/lib/python3.10/dist-packages (from matplotlib->-r requirements.txt (line 3)) (4.55.3)\n",
            "Requirement already satisfied: kiwisolver>=1.0.1 in /usr/local/lib/python3.10/dist-packages (from matplotlib->-r requirements.txt (line 3)) (1.4.7)\n",
            "Requirement already satisfied: pyparsing>=2.3.1 in /usr/local/lib/python3.10/dist-packages (from matplotlib->-r requirements.txt (line 3)) (3.2.0)\n",
            "Requirement already satisfied: python-dateutil>=2.7 in /usr/local/lib/python3.10/dist-packages (from matplotlib->-r requirements.txt (line 3)) (2.8.2)\n",
            "Requirement already satisfied: pytz>=2020.1 in /usr/local/lib/python3.10/dist-packages (from pandas->-r requirements.txt (line 5)) (2024.2)\n",
            "Requirement already satisfied: tzdata>=2022.7 in /usr/local/lib/python3.10/dist-packages (from pandas->-r requirements.txt (line 5)) (2024.2)\n",
            "Requirement already satisfied: joblib>=1.2.0 in /usr/local/lib/python3.10/dist-packages (from scikit-learn->-r requirements.txt (line 6)) (1.4.2)\n",
            "Requirement already satisfied: threadpoolctl>=3.1.0 in /usr/local/lib/python3.10/dist-packages (from scikit-learn->-r requirements.txt (line 6)) (3.5.0)\n",
            "Requirement already satisfied: click!=8.0.0,>=7.1 in /usr/local/lib/python3.10/dist-packages (from wandb->-r requirements.txt (line 9)) (8.1.7)\n",
            "Requirement already satisfied: docker-pycreds>=0.4.0 in /usr/local/lib/python3.10/dist-packages (from wandb->-r requirements.txt (line 9)) (0.4.0)\n",
            "Requirement already satisfied: gitpython!=3.1.29,>=1.0.0 in /usr/local/lib/python3.10/dist-packages (from wandb->-r requirements.txt (line 9)) (3.1.43)\n",
            "Requirement already satisfied: platformdirs in /usr/local/lib/python3.10/dist-packages (from wandb->-r requirements.txt (line 9)) (4.3.6)\n",
            "Requirement already satisfied: protobuf!=4.21.0,!=5.28.0,<6,>=3.19.0 in /usr/local/lib/python3.10/dist-packages (from wandb->-r requirements.txt (line 9)) (4.25.5)\n",
            "Requirement already satisfied: psutil>=5.0.0 in /usr/local/lib/python3.10/dist-packages (from wandb->-r requirements.txt (line 9)) (5.9.5)\n",
            "Requirement already satisfied: sentry-sdk>=2.0.0 in /usr/local/lib/python3.10/dist-packages (from wandb->-r requirements.txt (line 9)) (2.19.2)\n",
            "Requirement already satisfied: setproctitle in /usr/local/lib/python3.10/dist-packages (from wandb->-r requirements.txt (line 9)) (1.3.4)\n",
            "Requirement already satisfied: setuptools in /usr/local/lib/python3.10/dist-packages (from wandb->-r requirements.txt (line 9)) (75.1.0)\n",
            "Requirement already satisfied: six>=1.4.0 in /usr/local/lib/python3.10/dist-packages (from docker-pycreds>=0.4.0->wandb->-r requirements.txt (line 9)) (1.17.0)\n",
            "Requirement already satisfied: gitdb<5,>=4.0.1 in /usr/local/lib/python3.10/dist-packages (from gitpython!=3.1.29,>=1.0.0->wandb->-r requirements.txt (line 9)) (4.0.11)\n",
            "Requirement already satisfied: charset-normalizer<4,>=2 in /usr/local/lib/python3.10/dist-packages (from requests->fastai>=2.7->-r requirements.txt (line 2)) (3.4.0)\n",
            "Requirement already satisfied: idna<4,>=2.5 in /usr/local/lib/python3.10/dist-packages (from requests->fastai>=2.7->-r requirements.txt (line 2)) (3.10)\n",
            "Requirement already satisfied: urllib3<3,>=1.21.1 in /usr/local/lib/python3.10/dist-packages (from requests->fastai>=2.7->-r requirements.txt (line 2)) (2.2.3)\n",
            "Requirement already satisfied: certifi>=2017.4.17 in /usr/local/lib/python3.10/dist-packages (from requests->fastai>=2.7->-r requirements.txt (line 2)) (2024.8.30)\n",
            "Requirement already satisfied: spacy-legacy<3.1.0,>=3.0.11 in /usr/local/lib/python3.10/dist-packages (from spacy<4->fastai>=2.7->-r requirements.txt (line 2)) (3.0.12)\n",
            "Requirement already satisfied: spacy-loggers<2.0.0,>=1.0.0 in /usr/local/lib/python3.10/dist-packages (from spacy<4->fastai>=2.7->-r requirements.txt (line 2)) (1.0.5)\n",
            "Requirement already satisfied: murmurhash<1.1.0,>=0.28.0 in /usr/local/lib/python3.10/dist-packages (from spacy<4->fastai>=2.7->-r requirements.txt (line 2)) (1.0.11)\n",
            "Requirement already satisfied: cymem<2.1.0,>=2.0.2 in /usr/local/lib/python3.10/dist-packages (from spacy<4->fastai>=2.7->-r requirements.txt (line 2)) (2.0.10)\n",
            "Requirement already satisfied: preshed<3.1.0,>=3.0.2 in /usr/local/lib/python3.10/dist-packages (from spacy<4->fastai>=2.7->-r requirements.txt (line 2)) (3.0.9)\n",
            "Requirement already satisfied: thinc<8.3.0,>=8.2.2 in /usr/local/lib/python3.10/dist-packages (from spacy<4->fastai>=2.7->-r requirements.txt (line 2)) (8.2.5)\n",
            "Requirement already satisfied: wasabi<1.2.0,>=0.9.1 in /usr/local/lib/python3.10/dist-packages (from spacy<4->fastai>=2.7->-r requirements.txt (line 2)) (1.1.3)\n",
            "Requirement already satisfied: srsly<3.0.0,>=2.4.3 in /usr/local/lib/python3.10/dist-packages (from spacy<4->fastai>=2.7->-r requirements.txt (line 2)) (2.5.0)\n",
            "Requirement already satisfied: catalogue<2.1.0,>=2.0.6 in /usr/local/lib/python3.10/dist-packages (from spacy<4->fastai>=2.7->-r requirements.txt (line 2)) (2.0.10)\n",
            "Requirement already satisfied: weasel<0.5.0,>=0.1.0 in /usr/local/lib/python3.10/dist-packages (from spacy<4->fastai>=2.7->-r requirements.txt (line 2)) (0.4.1)\n",
            "Requirement already satisfied: typer<1.0.0,>=0.3.0 in /usr/local/lib/python3.10/dist-packages (from spacy<4->fastai>=2.7->-r requirements.txt (line 2)) (0.15.1)\n",
            "Requirement already satisfied: pydantic!=1.8,!=1.8.1,<3.0.0,>=1.7.4 in /usr/local/lib/python3.10/dist-packages (from spacy<4->fastai>=2.7->-r requirements.txt (line 2)) (2.10.3)\n",
            "Requirement already satisfied: langcodes<4.0.0,>=3.2.0 in /usr/local/lib/python3.10/dist-packages (from spacy<4->fastai>=2.7->-r requirements.txt (line 2)) (3.5.0)\n",
            "Requirement already satisfied: MarkupSafe>=2.0 in /usr/local/lib/python3.10/dist-packages (from jinja2->torch>=1.9->-r requirements.txt (line 1)) (3.0.2)\n",
            "Requirement already satisfied: smmap<6,>=3.0.1 in /usr/local/lib/python3.10/dist-packages (from gitdb<5,>=4.0.1->gitpython!=3.1.29,>=1.0.0->wandb->-r requirements.txt (line 9)) (5.0.1)\n",
            "Requirement already satisfied: language-data>=1.2 in /usr/local/lib/python3.10/dist-packages (from langcodes<4.0.0,>=3.2.0->spacy<4->fastai>=2.7->-r requirements.txt (line 2)) (1.3.0)\n",
            "Requirement already satisfied: annotated-types>=0.6.0 in /usr/local/lib/python3.10/dist-packages (from pydantic!=1.8,!=1.8.1,<3.0.0,>=1.7.4->spacy<4->fastai>=2.7->-r requirements.txt (line 2)) (0.7.0)\n",
            "Requirement already satisfied: pydantic-core==2.27.1 in /usr/local/lib/python3.10/dist-packages (from pydantic!=1.8,!=1.8.1,<3.0.0,>=1.7.4->spacy<4->fastai>=2.7->-r requirements.txt (line 2)) (2.27.1)\n",
            "Requirement already satisfied: blis<0.8.0,>=0.7.8 in /usr/local/lib/python3.10/dist-packages (from thinc<8.3.0,>=8.2.2->spacy<4->fastai>=2.7->-r requirements.txt (line 2)) (0.7.11)\n",
            "Requirement already satisfied: confection<1.0.0,>=0.0.1 in /usr/local/lib/python3.10/dist-packages (from thinc<8.3.0,>=8.2.2->spacy<4->fastai>=2.7->-r requirements.txt (line 2)) (0.1.5)\n",
            "Requirement already satisfied: shellingham>=1.3.0 in /usr/local/lib/python3.10/dist-packages (from typer<1.0.0,>=0.3.0->spacy<4->fastai>=2.7->-r requirements.txt (line 2)) (1.5.4)\n",
            "Requirement already satisfied: rich>=10.11.0 in /usr/local/lib/python3.10/dist-packages (from typer<1.0.0,>=0.3.0->spacy<4->fastai>=2.7->-r requirements.txt (line 2)) (13.9.4)\n",
            "Requirement already satisfied: cloudpathlib<1.0.0,>=0.7.0 in /usr/local/lib/python3.10/dist-packages (from weasel<0.5.0,>=0.1.0->spacy<4->fastai>=2.7->-r requirements.txt (line 2)) (0.20.0)\n",
            "Requirement already satisfied: smart-open<8.0.0,>=5.2.1 in /usr/local/lib/python3.10/dist-packages (from weasel<0.5.0,>=0.1.0->spacy<4->fastai>=2.7->-r requirements.txt (line 2)) (7.0.5)\n",
            "Requirement already satisfied: marisa-trie>=1.1.0 in /usr/local/lib/python3.10/dist-packages (from language-data>=1.2->langcodes<4.0.0,>=3.2.0->spacy<4->fastai>=2.7->-r requirements.txt (line 2)) (1.2.1)\n",
            "Requirement already satisfied: markdown-it-py>=2.2.0 in /usr/local/lib/python3.10/dist-packages (from rich>=10.11.0->typer<1.0.0,>=0.3.0->spacy<4->fastai>=2.7->-r requirements.txt (line 2)) (3.0.0)\n",
            "Requirement already satisfied: pygments<3.0.0,>=2.13.0 in /usr/local/lib/python3.10/dist-packages (from rich>=10.11.0->typer<1.0.0,>=0.3.0->spacy<4->fastai>=2.7->-r requirements.txt (line 2)) (2.18.0)\n",
            "Requirement already satisfied: wrapt in /usr/local/lib/python3.10/dist-packages (from smart-open<8.0.0,>=5.2.1->weasel<0.5.0,>=0.1.0->spacy<4->fastai>=2.7->-r requirements.txt (line 2)) (1.17.0)\n",
            "Requirement already satisfied: mdurl~=0.1 in /usr/local/lib/python3.10/dist-packages (from markdown-it-py>=2.2.0->rich>=10.11.0->typer<1.0.0,>=0.3.0->spacy<4->fastai>=2.7->-r requirements.txt (line 2)) (0.1.2)\n"
          ]
        }
      ],
      "source": [
        "# Install dependencies (run once)\n",
        "!wget https://raw.githubusercontent.com/wandb/edu/main/mlops-001/lesson1/requirements.txt\n",
        "!wget https://raw.githubusercontent.com/wandb/edu/main/mlops-001/lesson1/params.py\n",
        "!wget https://raw.githubusercontent.com/wandb/edu/main/mlops-001/lesson1/utils.py\n",
        "!pip install -r requirements.txt"
      ]
    },
    {
      "cell_type": "markdown",
      "id": "a212966e-8f38-4b4a-8e00-2985120439ca",
      "metadata": {
        "id": "a212966e-8f38-4b4a-8e00-2985120439ca"
      },
      "source": [
        "# EDA\n",
        "<!--- @wandbcode{course-lesson1} -->\n",
        "\n",
        "In this notebook, we will download a sample of the [BDD100K](https://www.bdd100k.com/) semantic segmentation dataset and use W&B Artifacts and Tables to version and analyze our data."
      ]
    },
    {
      "cell_type": "code",
      "execution_count": 3,
      "id": "17490b58-a8f2-489e-9c71-ca0e078591dc",
      "metadata": {
        "id": "17490b58-a8f2-489e-9c71-ca0e078591dc"
      },
      "outputs": [],
      "source": [
        "DEBUG = False # set this flag to True to use a small subset of data for testing"
      ]
    },
    {
      "cell_type": "code",
      "execution_count": 4,
      "id": "7ee88efc-3257-4ed7-bb8c-1695f4a8c828",
      "metadata": {
        "id": "7ee88efc-3257-4ed7-bb8c-1695f4a8c828"
      },
      "outputs": [],
      "source": [
        "from fastai.vision.all import *\n",
        "import params\n",
        "\n",
        "import wandb"
      ]
    },
    {
      "cell_type": "markdown",
      "id": "055764da-7252-4796-86af-585007dea288",
      "metadata": {
        "id": "055764da-7252-4796-86af-585007dea288"
      },
      "source": [
        "We have defined some global configuration parameters in the `params.py` file. `ENTITY` should correspond to your W&B Team name if you work in a team, replace it with `None` if you work individually.\n",
        "\n",
        "In the section below, we will use `untar_data` function from `fastai` to download and unzip our datasets."
      ]
    },
    {
      "cell_type": "code",
      "execution_count": 5,
      "id": "0bae3750-a653-4265-9c52-c1f9af9b8393",
      "metadata": {
        "id": "0bae3750-a653-4265-9c52-c1f9af9b8393"
      },
      "outputs": [],
      "source": [
        "URL = 'https://storage.googleapis.com/wandb_course/bdd_simple_1k.zip'"
      ]
    },
    {
      "cell_type": "code",
      "execution_count": 6,
      "id": "0da50d19-860a-4b39-8320-a376c483da04",
      "metadata": {
        "colab": {
          "base_uri": "https://localhost:8080/",
          "height": 37
        },
        "id": "0da50d19-860a-4b39-8320-a376c483da04",
        "outputId": "9fe7c6b0-a064-4d42-ac98-ceab724d2b73"
      },
      "outputs": [
        {
          "output_type": "display_data",
          "data": {
            "text/plain": [
              "<IPython.core.display.HTML object>"
            ],
            "text/html": [
              "\n",
              "<style>\n",
              "    /* Turns off some styling */\n",
              "    progress {\n",
              "        /* gets rid of default border in Firefox and Opera. */\n",
              "        border: none;\n",
              "        /* Needs to be in here for Safari polyfill so background images work as expected. */\n",
              "        background-size: auto;\n",
              "    }\n",
              "    progress:not([value]), progress:not([value])::-webkit-progress-bar {\n",
              "        background: repeating-linear-gradient(45deg, #7e7e7e, #7e7e7e 10px, #5c5c5c 10px, #5c5c5c 20px);\n",
              "    }\n",
              "    .progress-bar-interrupted, .progress-bar-interrupted::-webkit-progress-bar {\n",
              "        background: #F44336;\n",
              "    }\n",
              "</style>\n"
            ]
          },
          "metadata": {}
        },
        {
          "output_type": "display_data",
          "data": {
            "text/plain": [
              "<IPython.core.display.HTML object>"
            ],
            "text/html": [
              "\n",
              "    <div>\n",
              "      <progress value='122470400' class='' max='122467691' style='width:300px; height:20px; vertical-align: middle;'></progress>\n",
              "      100.00% [122470400/122467691 00:01&lt;00:00]\n",
              "    </div>\n",
              "    "
            ]
          },
          "metadata": {}
        }
      ],
      "source": [
        "path = Path(untar_data(URL, force_download=True))"
      ]
    },
    {
      "cell_type": "code",
      "execution_count": 8,
      "id": "6df5b830-e685-4a0d-81e8-6dda10697dff",
      "metadata": {
        "colab": {
          "base_uri": "https://localhost:8080/"
        },
        "id": "6df5b830-e685-4a0d-81e8-6dda10697dff",
        "outputId": "70e1e2b5-b51e-47d2-fa25-6b292cb5f0e6"
      },
      "outputs": [
        {
          "output_type": "execute_result",
          "data": {
            "text/plain": [
              "(#1000) [Path('/root/.fastai/data/bdd_simple_1k/images/25531db8-076c0000.jpg'),Path('/root/.fastai/data/bdd_simple_1k/images/069837be-00000000.jpg'),Path('/root/.fastai/data/bdd_simple_1k/images/2d783b3a-a6304dbd.jpg'),Path('/root/.fastai/data/bdd_simple_1k/images/6b9077b7-e6a07c88.jpg'),Path('/root/.fastai/data/bdd_simple_1k/images/3f7e121a-53b6beb4.jpg'),Path('/root/.fastai/data/bdd_simple_1k/images/2d3734da-e7e6f31c.jpg'),Path('/root/.fastai/data/bdd_simple_1k/images/68e7781a-cffc2268.jpg'),Path('/root/.fastai/data/bdd_simple_1k/images/8e74dd69-c75b794b.jpg'),Path('/root/.fastai/data/bdd_simple_1k/images/6a06ce90-c2a41753.jpg'),Path('/root/.fastai/data/bdd_simple_1k/images/6ec802d7-6f673b8a.jpg'),Path('/root/.fastai/data/bdd_simple_1k/images/3a875150-0882e9d2.jpg'),Path('/root/.fastai/data/bdd_simple_1k/images/38e561dd-8ea8ae2d.jpg'),Path('/root/.fastai/data/bdd_simple_1k/images/c2c5fee5-a8360924.jpg'),Path('/root/.fastai/data/bdd_simple_1k/images/982f86ee-c452edf3.jpg'),Path('/root/.fastai/data/bdd_simple_1k/images/3f291ac3-53bdc4d2.jpg'),Path('/root/.fastai/data/bdd_simple_1k/images/32876d94-f65066d5.jpg'),Path('/root/.fastai/data/bdd_simple_1k/images/a91b7555-00000140.jpg'),Path('/root/.fastai/data/bdd_simple_1k/images/3a2895be-61e80000.jpg'),Path('/root/.fastai/data/bdd_simple_1k/images/6ee57024-3c9e350d.jpg'),Path('/root/.fastai/data/bdd_simple_1k/images/6cc6d77b-ec2b695b.jpg')...]"
            ]
          },
          "metadata": {},
          "execution_count": 8
        }
      ],
      "source": [
        "(path/'images').ls()"
      ]
    },
    {
      "cell_type": "markdown",
      "id": "db6708ae-abaa-432f-83b0-028a99222096",
      "metadata": {
        "id": "db6708ae-abaa-432f-83b0-028a99222096"
      },
      "source": [
        "Here we define several functions to help us process the data and upload it as a `Table` to W&B."
      ]
    },
    {
      "cell_type": "code",
      "execution_count": 9,
      "id": "5779f980-4d9b-4645-9726-642a25334e10",
      "metadata": {
        "id": "5779f980-4d9b-4645-9726-642a25334e10"
      },
      "outputs": [],
      "source": [
        "def label_func(fname):\n",
        "    return (fname.parent.parent/\"labels\")/f\"{fname.stem}_mask.png\"\n",
        "\n",
        "def get_classes_per_image(mask_data, class_labels):\n",
        "    unique = list(np.unique(mask_data))\n",
        "    result_dict = {}\n",
        "    for _class in class_labels.keys():\n",
        "        result_dict[class_labels[_class]] = int(_class in unique)\n",
        "    return result_dict\n",
        "\n",
        "def _create_table(image_files, class_labels):\n",
        "    \"Create a table with the dataset\"\n",
        "    labels = [str(class_labels[_lab]) for _lab in list(class_labels)]\n",
        "    table = wandb.Table(columns=[\"File_Name\", \"Images\", \"Split\"] + labels)\n",
        "\n",
        "    for i, image_file in progress_bar(enumerate(image_files), total=len(image_files)):\n",
        "        image = Image.open(image_file)\n",
        "        mask_data = np.array(Image.open(label_func(image_file)))\n",
        "        class_in_image = get_classes_per_image(mask_data, class_labels)\n",
        "        table.add_data(\n",
        "            str(image_file.name),\n",
        "            wandb.Image(\n",
        "                    image,\n",
        "                    masks={\n",
        "                        \"predictions\": {\n",
        "                            \"mask_data\": mask_data,\n",
        "                            \"class_labels\": class_labels,\n",
        "                        }\n",
        "                    }\n",
        "            ),\n",
        "            \"None\", # we don't have a dataset split yet\n",
        "            *[class_in_image[_lab] for _lab in labels]\n",
        "        )\n",
        "\n",
        "    return table"
      ]
    },
    {
      "cell_type": "markdown",
      "id": "eac085cd-2409-4baf-a887-108e3dca65b9",
      "metadata": {
        "id": "eac085cd-2409-4baf-a887-108e3dca65b9"
      },
      "source": [
        "We will start a new W&B `run` and put everything into a raw Artifact."
      ]
    },
    {
      "cell_type": "code",
      "execution_count": 10,
      "id": "e87141b3-b9b7-4a40-839c-64c835484f48",
      "metadata": {
        "colab": {
          "base_uri": "https://localhost:8080/",
          "height": 208
        },
        "id": "e87141b3-b9b7-4a40-839c-64c835484f48",
        "outputId": "524b8955-e945-4023-bc0e-2bcec4b4a824"
      },
      "outputs": [
        {
          "output_type": "stream",
          "name": "stderr",
          "text": [
            "\u001b[34m\u001b[1mwandb\u001b[0m: Using wandb-core as the SDK backend.  Please refer to https://wandb.me/wandb-core for more information.\n"
          ]
        },
        {
          "output_type": "display_data",
          "data": {
            "text/plain": [
              "<IPython.core.display.Javascript object>"
            ],
            "application/javascript": [
              "\n",
              "        window._wandbApiKey = new Promise((resolve, reject) => {\n",
              "            function loadScript(url) {\n",
              "            return new Promise(function(resolve, reject) {\n",
              "                let newScript = document.createElement(\"script\");\n",
              "                newScript.onerror = reject;\n",
              "                newScript.onload = resolve;\n",
              "                document.body.appendChild(newScript);\n",
              "                newScript.src = url;\n",
              "            });\n",
              "            }\n",
              "            loadScript(\"https://cdn.jsdelivr.net/npm/postmate/build/postmate.min.js\").then(() => {\n",
              "            const iframe = document.createElement('iframe')\n",
              "            iframe.style.cssText = \"width:0;height:0;border:none\"\n",
              "            document.body.appendChild(iframe)\n",
              "            const handshake = new Postmate({\n",
              "                container: iframe,\n",
              "                url: 'https://wandb.ai/authorize'\n",
              "            });\n",
              "            const timeout = setTimeout(() => reject(\"Couldn't auto authenticate\"), 5000)\n",
              "            handshake.then(function(child) {\n",
              "                child.on('authorize', data => {\n",
              "                    clearTimeout(timeout)\n",
              "                    resolve(data)\n",
              "                });\n",
              "            });\n",
              "            })\n",
              "        });\n",
              "    "
            ]
          },
          "metadata": {}
        },
        {
          "output_type": "stream",
          "name": "stderr",
          "text": [
            "\u001b[34m\u001b[1mwandb\u001b[0m: Logging into wandb.ai. (Learn how to deploy a W&B server locally: https://wandb.me/wandb-server)\n",
            "\u001b[34m\u001b[1mwandb\u001b[0m: You can find your API key in your browser here: https://wandb.ai/authorize\n",
            "wandb: Paste an API key from your profile and hit enter, or press ctrl+c to quit:"
          ]
        },
        {
          "name": "stdout",
          "output_type": "stream",
          "text": [
            " ··········\n"
          ]
        },
        {
          "output_type": "stream",
          "name": "stderr",
          "text": [
            "\u001b[34m\u001b[1mwandb\u001b[0m: Appending key for api.wandb.ai to your netrc file: /root/.netrc\n"
          ]
        },
        {
          "output_type": "display_data",
          "data": {
            "text/plain": [
              "<IPython.core.display.HTML object>"
            ],
            "text/html": [
              "Tracking run with wandb version 0.18.7"
            ]
          },
          "metadata": {}
        },
        {
          "output_type": "display_data",
          "data": {
            "text/plain": [
              "<IPython.core.display.HTML object>"
            ],
            "text/html": [
              "Run data is saved locally in <code>/content/wandb/run-20241217_203120-kb8lvw0n</code>"
            ]
          },
          "metadata": {}
        },
        {
          "output_type": "display_data",
          "data": {
            "text/plain": [
              "<IPython.core.display.HTML object>"
            ],
            "text/html": [
              "Syncing run <strong><a href='https://wandb.ai/wsb-wesleybrown/mlops-course-001/runs/kb8lvw0n' target=\"_blank\">ethereal-planet-1</a></strong> to <a href='https://wandb.ai/wsb-wesleybrown/mlops-course-001' target=\"_blank\">Weights & Biases</a> (<a href='https://wandb.me/developer-guide' target=\"_blank\">docs</a>)<br/>"
            ]
          },
          "metadata": {}
        },
        {
          "output_type": "display_data",
          "data": {
            "text/plain": [
              "<IPython.core.display.HTML object>"
            ],
            "text/html": [
              " View project at <a href='https://wandb.ai/wsb-wesleybrown/mlops-course-001' target=\"_blank\">https://wandb.ai/wsb-wesleybrown/mlops-course-001</a>"
            ]
          },
          "metadata": {}
        },
        {
          "output_type": "display_data",
          "data": {
            "text/plain": [
              "<IPython.core.display.HTML object>"
            ],
            "text/html": [
              " View run at <a href='https://wandb.ai/wsb-wesleybrown/mlops-course-001/runs/kb8lvw0n' target=\"_blank\">https://wandb.ai/wsb-wesleybrown/mlops-course-001/runs/kb8lvw0n</a>"
            ]
          },
          "metadata": {}
        }
      ],
      "source": [
        "run = wandb.init(project=params.WANDB_PROJECT, entity=params.ENTITY, job_type=\"upload\")\n",
        "raw_data_at = wandb.Artifact(params.RAW_DATA_AT, type=\"raw_data\")"
      ]
    },
    {
      "cell_type": "code",
      "execution_count": 11,
      "id": "f2de6968-b465-4e2e-aaf1-787a48c7981e",
      "metadata": {
        "colab": {
          "base_uri": "https://localhost:8080/"
        },
        "id": "f2de6968-b465-4e2e-aaf1-787a48c7981e",
        "outputId": "0b04027a-db6e-45dd-fca8-e7f77e8001b5"
      },
      "outputs": [
        {
          "output_type": "execute_result",
          "data": {
            "text/plain": [
              "ArtifactManifestEntry(path='LICENSE.txt', digest='X+6ZFkDOlnKesJCNt20yRg==', size=1594, local_path='/root/.local/share/wandb/artifacts/staging/tmpbfnih2nt', skip_cache=False)"
            ]
          },
          "metadata": {},
          "execution_count": 11
        }
      ],
      "source": [
        "raw_data_at.add_file(path/'LICENSE.txt', name='LICENSE.txt')"
      ]
    },
    {
      "cell_type": "markdown",
      "id": "10addc71-201d-4c29-af23-9a5d9a5cbddf",
      "metadata": {
        "id": "10addc71-201d-4c29-af23-9a5d9a5cbddf"
      },
      "source": [
        "Let's add the images and label masks."
      ]
    },
    {
      "cell_type": "code",
      "execution_count": 12,
      "id": "e2e29a83-ec60-4518-8b73-078f1719bc8f",
      "metadata": {
        "colab": {
          "base_uri": "https://localhost:8080/"
        },
        "id": "e2e29a83-ec60-4518-8b73-078f1719bc8f",
        "outputId": "e3dc46d9-c5aa-4dc6-a121-5f25479c70e5"
      },
      "outputs": [
        {
          "output_type": "stream",
          "name": "stderr",
          "text": [
            "\u001b[34m\u001b[1mwandb\u001b[0m: Adding directory to artifact (/root/.fastai/data/bdd_simple_1k/images)... Done. 1.2s\n",
            "\u001b[34m\u001b[1mwandb\u001b[0m: Adding directory to artifact (/root/.fastai/data/bdd_simple_1k/labels)... Done. 0.6s\n"
          ]
        }
      ],
      "source": [
        "raw_data_at.add_dir(path/'images', name='images')\n",
        "raw_data_at.add_dir(path/'labels', name='labels')"
      ]
    },
    {
      "cell_type": "markdown",
      "id": "01b989eb-36da-4194-9a34-88126749f210",
      "metadata": {
        "id": "01b989eb-36da-4194-9a34-88126749f210"
      },
      "source": [
        "Let's get the file names of images in our dataset and use the function we defined above to create a W&B Table."
      ]
    },
    {
      "cell_type": "code",
      "execution_count": 13,
      "id": "aeaa2dae-1b2b-4c70-8dcf-b079f4f05b86",
      "metadata": {
        "id": "aeaa2dae-1b2b-4c70-8dcf-b079f4f05b86"
      },
      "outputs": [],
      "source": [
        "image_files = get_image_files(path/\"images\", recurse=False)\n",
        "\n",
        "# sample a subset if DEBUG\n",
        "if DEBUG: image_files = image_files[:10]"
      ]
    },
    {
      "cell_type": "code",
      "execution_count": 14,
      "id": "451ff088-4cb3-4739-b4e8-308d03645ffe",
      "metadata": {
        "colab": {
          "base_uri": "https://localhost:8080/",
          "height": 37
        },
        "id": "451ff088-4cb3-4739-b4e8-308d03645ffe",
        "outputId": "b06d42d5-beb5-4fe9-e5c0-d7c091c73d7f"
      },
      "outputs": [
        {
          "output_type": "display_data",
          "data": {
            "text/plain": [
              "<IPython.core.display.HTML object>"
            ],
            "text/html": [
              "\n",
              "<style>\n",
              "    /* Turns off some styling */\n",
              "    progress {\n",
              "        /* gets rid of default border in Firefox and Opera. */\n",
              "        border: none;\n",
              "        /* Needs to be in here for Safari polyfill so background images work as expected. */\n",
              "        background-size: auto;\n",
              "    }\n",
              "    progress:not([value]), progress:not([value])::-webkit-progress-bar {\n",
              "        background: repeating-linear-gradient(45deg, #7e7e7e, #7e7e7e 10px, #5c5c5c 10px, #5c5c5c 20px);\n",
              "    }\n",
              "    .progress-bar-interrupted, .progress-bar-interrupted::-webkit-progress-bar {\n",
              "        background: #F44336;\n",
              "    }\n",
              "</style>\n"
            ]
          },
          "metadata": {}
        },
        {
          "output_type": "display_data",
          "data": {
            "text/plain": [
              "<IPython.core.display.HTML object>"
            ],
            "text/html": [
              "\n",
              "    <div>\n",
              "      <progress value='1000' class='' max='1000' style='width:300px; height:20px; vertical-align: middle;'></progress>\n",
              "      100.00% [1000/1000 05:19&lt;00:00]\n",
              "    </div>\n",
              "    "
            ]
          },
          "metadata": {}
        }
      ],
      "source": [
        "table = _create_table(image_files, params.BDD_CLASSES)"
      ]
    },
    {
      "cell_type": "markdown",
      "id": "ff73cd37-6a72-44f7-a5cf-6abe7d327092",
      "metadata": {
        "id": "ff73cd37-6a72-44f7-a5cf-6abe7d327092"
      },
      "source": [
        "Finally, we will add the Table to our Artifact, log it to W&B and finish our `run`."
      ]
    },
    {
      "cell_type": "code",
      "execution_count": 15,
      "id": "d4183e9c-75e4-48a8-a2e1-0f4492c0b5d0",
      "metadata": {
        "colab": {
          "base_uri": "https://localhost:8080/"
        },
        "id": "d4183e9c-75e4-48a8-a2e1-0f4492c0b5d0",
        "outputId": "c9dc1247-4972-429f-b127-8949e0be8faf"
      },
      "outputs": [
        {
          "output_type": "execute_result",
          "data": {
            "text/plain": [
              "ArtifactManifestEntry(path='eda_table.table.json', digest='1QwTQVOGS15Fy6Q8TGSegA==', size=588824, local_path='/root/.local/share/wandb/artifacts/staging/tmp_r3a4n7e', skip_cache=False)"
            ]
          },
          "metadata": {},
          "execution_count": 15
        }
      ],
      "source": [
        "raw_data_at.add(table, \"eda_table\")"
      ]
    },
    {
      "cell_type": "code",
      "execution_count": 16,
      "id": "e81ed9c8-6905-4841-a9f7-e3f3b9b6d927",
      "metadata": {
        "colab": {
          "base_uri": "https://localhost:8080/",
          "height": 86,
          "referenced_widgets": [
            "46d6b0cde12c4000810cbf9bc8d25bee",
            "d7640dbed9ea444a86a8885c93cd359e",
            "16ed9180e8744330bcc3121d7b6b715a",
            "e132857dc7dc4748afebdf722a6f7459",
            "7b66fd9420504733826f0a1b8974ebfd",
            "dbc348bcc0164ffe8f965d5f86cdab49",
            "9d5a06f4c9e44a50904d24e137995ad5",
            "1bb8c16800a84710bf0af51ae9c69d32"
          ]
        },
        "id": "e81ed9c8-6905-4841-a9f7-e3f3b9b6d927",
        "outputId": "98cb32a7-f47b-4d0c-f714-197fc9639e96"
      },
      "outputs": [
        {
          "output_type": "display_data",
          "data": {
            "text/plain": [
              "VBox(children=(Label(value='21.825 MB of 35.862 MB uploaded\\r'), FloatProgress(value=0.6085747757105108, max=1…"
            ],
            "application/vnd.jupyter.widget-view+json": {
              "version_major": 2,
              "version_minor": 0,
              "model_id": "46d6b0cde12c4000810cbf9bc8d25bee"
            }
          },
          "metadata": {}
        },
        {
          "output_type": "display_data",
          "data": {
            "text/plain": [
              "<IPython.core.display.HTML object>"
            ],
            "text/html": [
              " View run <strong style=\"color:#cdcd00\">ethereal-planet-1</strong> at: <a href='https://wandb.ai/wsb-wesleybrown/mlops-course-001/runs/kb8lvw0n' target=\"_blank\">https://wandb.ai/wsb-wesleybrown/mlops-course-001/runs/kb8lvw0n</a><br/> View project at: <a href='https://wandb.ai/wsb-wesleybrown/mlops-course-001' target=\"_blank\">https://wandb.ai/wsb-wesleybrown/mlops-course-001</a><br/>Synced 5 W&B file(s), 0 media file(s), 4008 artifact file(s) and 0 other file(s)"
            ]
          },
          "metadata": {}
        },
        {
          "output_type": "display_data",
          "data": {
            "text/plain": [
              "<IPython.core.display.HTML object>"
            ],
            "text/html": [
              "Find logs at: <code>./wandb/run-20241217_203120-kb8lvw0n/logs</code>"
            ]
          },
          "metadata": {}
        }
      ],
      "source": [
        "run.log_artifact(raw_data_at)\n",
        "run.finish()"
      ]
    },
    {
      "cell_type": "code",
      "source": [],
      "metadata": {
        "id": "meAv9EduWdlS"
      },
      "id": "meAv9EduWdlS",
      "execution_count": null,
      "outputs": []
    }
  ],
  "metadata": {
    "kernelspec": {
      "display_name": "Python 3",
      "language": "python",
      "name": "python3"
    },
    "language_info": {
      "name": "python",
      "version": "3.10.6 (main, Aug 30 2022, 04:58:14) [Clang 13.1.6 (clang-1316.0.21.2.5)]"
    },
    "vscode": {
      "interpreter": {
        "hash": "b0fa6594d8f4cbf19f97940f81e996739fb7646882a419484c72d19e05852a7e"
      }
    },
    "colab": {
      "provenance": []
    },
    "widgets": {
      "application/vnd.jupyter.widget-state+json": {
        "46d6b0cde12c4000810cbf9bc8d25bee": {
          "model_module": "@jupyter-widgets/controls",
          "model_name": "VBoxModel",
          "model_module_version": "1.5.0",
          "state": {
            "_dom_classes": [],
            "_model_module": "@jupyter-widgets/controls",
            "_model_module_version": "1.5.0",
            "_model_name": "VBoxModel",
            "_view_count": null,
            "_view_module": "@jupyter-widgets/controls",
            "_view_module_version": "1.5.0",
            "_view_name": "VBoxView",
            "box_style": "",
            "children": [
              "IPY_MODEL_d7640dbed9ea444a86a8885c93cd359e",
              "IPY_MODEL_16ed9180e8744330bcc3121d7b6b715a"
            ],
            "layout": "IPY_MODEL_e132857dc7dc4748afebdf722a6f7459"
          }
        },
        "d7640dbed9ea444a86a8885c93cd359e": {
          "model_module": "@jupyter-widgets/controls",
          "model_name": "LabelModel",
          "model_module_version": "1.5.0",
          "state": {
            "_dom_classes": [],
            "_model_module": "@jupyter-widgets/controls",
            "_model_module_version": "1.5.0",
            "_model_name": "LabelModel",
            "_view_count": null,
            "_view_module": "@jupyter-widgets/controls",
            "_view_module_version": "1.5.0",
            "_view_name": "LabelView",
            "description": "",
            "description_tooltip": null,
            "layout": "IPY_MODEL_7b66fd9420504733826f0a1b8974ebfd",
            "placeholder": "​",
            "style": "IPY_MODEL_dbc348bcc0164ffe8f965d5f86cdab49",
            "value": "805.408 MB of 828.956 MB uploaded\r"
          }
        },
        "16ed9180e8744330bcc3121d7b6b715a": {
          "model_module": "@jupyter-widgets/controls",
          "model_name": "FloatProgressModel",
          "model_module_version": "1.5.0",
          "state": {
            "_dom_classes": [],
            "_model_module": "@jupyter-widgets/controls",
            "_model_module_version": "1.5.0",
            "_model_name": "FloatProgressModel",
            "_view_count": null,
            "_view_module": "@jupyter-widgets/controls",
            "_view_module_version": "1.5.0",
            "_view_name": "ProgressView",
            "bar_style": "",
            "description": "",
            "description_tooltip": null,
            "layout": "IPY_MODEL_9d5a06f4c9e44a50904d24e137995ad5",
            "max": 1,
            "min": 0,
            "orientation": "horizontal",
            "style": "IPY_MODEL_1bb8c16800a84710bf0af51ae9c69d32",
            "value": 0.9715929103674484
          }
        },
        "e132857dc7dc4748afebdf722a6f7459": {
          "model_module": "@jupyter-widgets/base",
          "model_name": "LayoutModel",
          "model_module_version": "1.2.0",
          "state": {
            "_model_module": "@jupyter-widgets/base",
            "_model_module_version": "1.2.0",
            "_model_name": "LayoutModel",
            "_view_count": null,
            "_view_module": "@jupyter-widgets/base",
            "_view_module_version": "1.2.0",
            "_view_name": "LayoutView",
            "align_content": null,
            "align_items": null,
            "align_self": null,
            "border": null,
            "bottom": null,
            "display": null,
            "flex": null,
            "flex_flow": null,
            "grid_area": null,
            "grid_auto_columns": null,
            "grid_auto_flow": null,
            "grid_auto_rows": null,
            "grid_column": null,
            "grid_gap": null,
            "grid_row": null,
            "grid_template_areas": null,
            "grid_template_columns": null,
            "grid_template_rows": null,
            "height": null,
            "justify_content": null,
            "justify_items": null,
            "left": null,
            "margin": null,
            "max_height": null,
            "max_width": null,
            "min_height": null,
            "min_width": null,
            "object_fit": null,
            "object_position": null,
            "order": null,
            "overflow": null,
            "overflow_x": null,
            "overflow_y": null,
            "padding": null,
            "right": null,
            "top": null,
            "visibility": null,
            "width": null
          }
        },
        "7b66fd9420504733826f0a1b8974ebfd": {
          "model_module": "@jupyter-widgets/base",
          "model_name": "LayoutModel",
          "model_module_version": "1.2.0",
          "state": {
            "_model_module": "@jupyter-widgets/base",
            "_model_module_version": "1.2.0",
            "_model_name": "LayoutModel",
            "_view_count": null,
            "_view_module": "@jupyter-widgets/base",
            "_view_module_version": "1.2.0",
            "_view_name": "LayoutView",
            "align_content": null,
            "align_items": null,
            "align_self": null,
            "border": null,
            "bottom": null,
            "display": null,
            "flex": null,
            "flex_flow": null,
            "grid_area": null,
            "grid_auto_columns": null,
            "grid_auto_flow": null,
            "grid_auto_rows": null,
            "grid_column": null,
            "grid_gap": null,
            "grid_row": null,
            "grid_template_areas": null,
            "grid_template_columns": null,
            "grid_template_rows": null,
            "height": null,
            "justify_content": null,
            "justify_items": null,
            "left": null,
            "margin": null,
            "max_height": null,
            "max_width": null,
            "min_height": null,
            "min_width": null,
            "object_fit": null,
            "object_position": null,
            "order": null,
            "overflow": null,
            "overflow_x": null,
            "overflow_y": null,
            "padding": null,
            "right": null,
            "top": null,
            "visibility": null,
            "width": null
          }
        },
        "dbc348bcc0164ffe8f965d5f86cdab49": {
          "model_module": "@jupyter-widgets/controls",
          "model_name": "DescriptionStyleModel",
          "model_module_version": "1.5.0",
          "state": {
            "_model_module": "@jupyter-widgets/controls",
            "_model_module_version": "1.5.0",
            "_model_name": "DescriptionStyleModel",
            "_view_count": null,
            "_view_module": "@jupyter-widgets/base",
            "_view_module_version": "1.2.0",
            "_view_name": "StyleView",
            "description_width": ""
          }
        },
        "9d5a06f4c9e44a50904d24e137995ad5": {
          "model_module": "@jupyter-widgets/base",
          "model_name": "LayoutModel",
          "model_module_version": "1.2.0",
          "state": {
            "_model_module": "@jupyter-widgets/base",
            "_model_module_version": "1.2.0",
            "_model_name": "LayoutModel",
            "_view_count": null,
            "_view_module": "@jupyter-widgets/base",
            "_view_module_version": "1.2.0",
            "_view_name": "LayoutView",
            "align_content": null,
            "align_items": null,
            "align_self": null,
            "border": null,
            "bottom": null,
            "display": null,
            "flex": null,
            "flex_flow": null,
            "grid_area": null,
            "grid_auto_columns": null,
            "grid_auto_flow": null,
            "grid_auto_rows": null,
            "grid_column": null,
            "grid_gap": null,
            "grid_row": null,
            "grid_template_areas": null,
            "grid_template_columns": null,
            "grid_template_rows": null,
            "height": null,
            "justify_content": null,
            "justify_items": null,
            "left": null,
            "margin": null,
            "max_height": null,
            "max_width": null,
            "min_height": null,
            "min_width": null,
            "object_fit": null,
            "object_position": null,
            "order": null,
            "overflow": null,
            "overflow_x": null,
            "overflow_y": null,
            "padding": null,
            "right": null,
            "top": null,
            "visibility": null,
            "width": null
          }
        },
        "1bb8c16800a84710bf0af51ae9c69d32": {
          "model_module": "@jupyter-widgets/controls",
          "model_name": "ProgressStyleModel",
          "model_module_version": "1.5.0",
          "state": {
            "_model_module": "@jupyter-widgets/controls",
            "_model_module_version": "1.5.0",
            "_model_name": "ProgressStyleModel",
            "_view_count": null,
            "_view_module": "@jupyter-widgets/base",
            "_view_module_version": "1.2.0",
            "_view_name": "StyleView",
            "bar_color": null,
            "description_width": ""
          }
        }
      }
    }
  },
  "nbformat": 4,
  "nbformat_minor": 5
}